{
  "nbformat": 4,
  "nbformat_minor": 0,
  "metadata": {
    "colab": {
      "name": "Random_Forest(Hyper_parameter-tuning).ipynb",
      "provenance": [],
      "collapsed_sections": []
    },
    "kernelspec": {
      "name": "python3",
      "display_name": "Python 3"
    },
    "language_info": {
      "name": "python"
    }
  },
  "cells": [
    {
      "cell_type": "markdown",
      "metadata": {
        "id": "cfuyepkfCYvn"
      },
      "source": [
        "# ***RANDOM_FOREST_CLASSIFICATION***"
      ]
    },
    {
      "cell_type": "code",
      "metadata": {
        "id": "mMXrJc_ikwHl"
      },
      "source": [
        "import pandas as pd\n",
        "import numpy as np\n",
        "import matplotlib.pyplot as plt\n",
        "import seaborn as sns"
      ],
      "execution_count": null,
      "outputs": []
    },
    {
      "cell_type": "code",
      "metadata": {
        "id": "gUO08a37nV65"
      },
      "source": [
        "df=pd.read_csv('/content/Churn_Modelling.csv')"
      ],
      "execution_count": null,
      "outputs": []
    },
    {
      "cell_type": "code",
      "metadata": {
        "colab": {
          "base_uri": "https://localhost:8080/",
          "height": 222
        },
        "id": "KXMuNxz6nbNR",
        "outputId": "abe576e0-d0f5-4920-fb63-2ea5663b1ca4"
      },
      "source": [
        "df.head()"
      ],
      "execution_count": null,
      "outputs": [
        {
          "output_type": "execute_result",
          "data": {
            "text/html": [
              "<div>\n",
              "<style scoped>\n",
              "    .dataframe tbody tr th:only-of-type {\n",
              "        vertical-align: middle;\n",
              "    }\n",
              "\n",
              "    .dataframe tbody tr th {\n",
              "        vertical-align: top;\n",
              "    }\n",
              "\n",
              "    .dataframe thead th {\n",
              "        text-align: right;\n",
              "    }\n",
              "</style>\n",
              "<table border=\"1\" class=\"dataframe\">\n",
              "  <thead>\n",
              "    <tr style=\"text-align: right;\">\n",
              "      <th></th>\n",
              "      <th>RowNumber</th>\n",
              "      <th>CustomerId</th>\n",
              "      <th>Surname</th>\n",
              "      <th>CreditScore</th>\n",
              "      <th>Geography</th>\n",
              "      <th>Gender</th>\n",
              "      <th>Age</th>\n",
              "      <th>Tenure</th>\n",
              "      <th>Balance</th>\n",
              "      <th>NumOfProducts</th>\n",
              "      <th>HasCrCard</th>\n",
              "      <th>IsActiveMember</th>\n",
              "      <th>EstimatedSalary</th>\n",
              "      <th>Exited</th>\n",
              "    </tr>\n",
              "  </thead>\n",
              "  <tbody>\n",
              "    <tr>\n",
              "      <th>0</th>\n",
              "      <td>1</td>\n",
              "      <td>15634602</td>\n",
              "      <td>Hargrave</td>\n",
              "      <td>619</td>\n",
              "      <td>France</td>\n",
              "      <td>Female</td>\n",
              "      <td>42</td>\n",
              "      <td>2</td>\n",
              "      <td>0.00</td>\n",
              "      <td>1</td>\n",
              "      <td>1</td>\n",
              "      <td>1</td>\n",
              "      <td>101348.88</td>\n",
              "      <td>1</td>\n",
              "    </tr>\n",
              "    <tr>\n",
              "      <th>1</th>\n",
              "      <td>2</td>\n",
              "      <td>15647311</td>\n",
              "      <td>Hill</td>\n",
              "      <td>608</td>\n",
              "      <td>Spain</td>\n",
              "      <td>Female</td>\n",
              "      <td>41</td>\n",
              "      <td>1</td>\n",
              "      <td>83807.86</td>\n",
              "      <td>1</td>\n",
              "      <td>0</td>\n",
              "      <td>1</td>\n",
              "      <td>112542.58</td>\n",
              "      <td>0</td>\n",
              "    </tr>\n",
              "    <tr>\n",
              "      <th>2</th>\n",
              "      <td>3</td>\n",
              "      <td>15619304</td>\n",
              "      <td>Onio</td>\n",
              "      <td>502</td>\n",
              "      <td>France</td>\n",
              "      <td>Female</td>\n",
              "      <td>42</td>\n",
              "      <td>8</td>\n",
              "      <td>159660.80</td>\n",
              "      <td>3</td>\n",
              "      <td>1</td>\n",
              "      <td>0</td>\n",
              "      <td>113931.57</td>\n",
              "      <td>1</td>\n",
              "    </tr>\n",
              "    <tr>\n",
              "      <th>3</th>\n",
              "      <td>4</td>\n",
              "      <td>15701354</td>\n",
              "      <td>Boni</td>\n",
              "      <td>699</td>\n",
              "      <td>France</td>\n",
              "      <td>Female</td>\n",
              "      <td>39</td>\n",
              "      <td>1</td>\n",
              "      <td>0.00</td>\n",
              "      <td>2</td>\n",
              "      <td>0</td>\n",
              "      <td>0</td>\n",
              "      <td>93826.63</td>\n",
              "      <td>0</td>\n",
              "    </tr>\n",
              "    <tr>\n",
              "      <th>4</th>\n",
              "      <td>5</td>\n",
              "      <td>15737888</td>\n",
              "      <td>Mitchell</td>\n",
              "      <td>850</td>\n",
              "      <td>Spain</td>\n",
              "      <td>Female</td>\n",
              "      <td>43</td>\n",
              "      <td>2</td>\n",
              "      <td>125510.82</td>\n",
              "      <td>1</td>\n",
              "      <td>1</td>\n",
              "      <td>1</td>\n",
              "      <td>79084.10</td>\n",
              "      <td>0</td>\n",
              "    </tr>\n",
              "  </tbody>\n",
              "</table>\n",
              "</div>"
            ],
            "text/plain": [
              "   RowNumber  CustomerId   Surname  ...  IsActiveMember EstimatedSalary Exited\n",
              "0          1    15634602  Hargrave  ...               1       101348.88      1\n",
              "1          2    15647311      Hill  ...               1       112542.58      0\n",
              "2          3    15619304      Onio  ...               0       113931.57      1\n",
              "3          4    15701354      Boni  ...               0        93826.63      0\n",
              "4          5    15737888  Mitchell  ...               1        79084.10      0\n",
              "\n",
              "[5 rows x 14 columns]"
            ]
          },
          "metadata": {
            "tags": []
          },
          "execution_count": 4
        }
      ]
    },
    {
      "cell_type": "code",
      "metadata": {
        "colab": {
          "base_uri": "https://localhost:8080/"
        },
        "id": "2cvpAYoOncbW",
        "outputId": "4dff6fc0-2cd6-4faa-a025-7f012625656c"
      },
      "source": [
        "df.columns"
      ],
      "execution_count": null,
      "outputs": [
        {
          "output_type": "execute_result",
          "data": {
            "text/plain": [
              "Index(['RowNumber', 'CustomerId', 'Surname', 'CreditScore', 'Geography',\n",
              "       'Gender', 'Age', 'Tenure', 'Balance', 'NumOfProducts', 'HasCrCard',\n",
              "       'IsActiveMember', 'EstimatedSalary', 'Exited'],\n",
              "      dtype='object')"
            ]
          },
          "metadata": {
            "tags": []
          },
          "execution_count": 5
        }
      ]
    },
    {
      "cell_type": "code",
      "metadata": {
        "id": "1uzZnUOgneO-"
      },
      "source": [
        "df.drop(['RowNumber', 'CustomerId', 'Surname'],axis=1,inplace=True)"
      ],
      "execution_count": null,
      "outputs": []
    },
    {
      "cell_type": "code",
      "metadata": {
        "id": "FwDJ1rXtnmA6"
      },
      "source": [
        "#encoding\n",
        "from sklearn.preprocessing import LabelEncoder\n",
        "lb_encoder=LabelEncoder()"
      ],
      "execution_count": null,
      "outputs": []
    },
    {
      "cell_type": "code",
      "metadata": {
        "id": "nmtKoo0do-On"
      },
      "source": [
        "df['Gender'] =lb_encoder.fit_transform(df['Gender'])\n",
        "df['Geography']=lb_encoder.fit_transform(df['Geography'])"
      ],
      "execution_count": null,
      "outputs": []
    },
    {
      "cell_type": "code",
      "metadata": {
        "colab": {
          "base_uri": "https://localhost:8080/"
        },
        "id": "WA0fARospGJx",
        "outputId": "41d6522d-d7d2-4d0b-b344-06b8589ba6ed"
      },
      "source": [
        "df['Geography'].unique()"
      ],
      "execution_count": null,
      "outputs": [
        {
          "output_type": "execute_result",
          "data": {
            "text/plain": [
              "array([0, 2, 1])"
            ]
          },
          "metadata": {
            "tags": []
          },
          "execution_count": 9
        }
      ]
    },
    {
      "cell_type": "code",
      "metadata": {
        "colab": {
          "base_uri": "https://localhost:8080/"
        },
        "id": "vOa0WQ8YpVmM",
        "outputId": "253a6d10-6edb-4ac1-d237-2ad9ccb86961"
      },
      "source": [
        "df['Gender'].unique()"
      ],
      "execution_count": null,
      "outputs": [
        {
          "output_type": "execute_result",
          "data": {
            "text/plain": [
              "array([0, 1])"
            ]
          },
          "metadata": {
            "tags": []
          },
          "execution_count": 10
        }
      ]
    },
    {
      "cell_type": "code",
      "metadata": {
        "id": "Xgh3co6ipsWU"
      },
      "source": [
        "#Independent and Dependent \n",
        "X=df.iloc[:,:-1]\n",
        "y=df.iloc[:,-1]"
      ],
      "execution_count": null,
      "outputs": []
    },
    {
      "cell_type": "code",
      "metadata": {
        "colab": {
          "base_uri": "https://localhost:8080/"
        },
        "id": "KJ_KCimYp5ek",
        "outputId": "6a04a6e4-f7ba-43f0-f0cf-a45e00414c5d"
      },
      "source": [
        "print(X.shape)\n",
        "print(y.shape)"
      ],
      "execution_count": null,
      "outputs": [
        {
          "output_type": "stream",
          "text": [
            "(10000, 10)\n",
            "(10000,)\n"
          ],
          "name": "stdout"
        }
      ]
    },
    {
      "cell_type": "code",
      "metadata": {
        "id": "z8luhgS5p_Vb"
      },
      "source": [
        "#Train Test split\n",
        "from sklearn.model_selection import train_test_split\n",
        "X_train,X_test,y_train,y_test = train_test_split(X,y,test_size=0.3,random_state=1)"
      ],
      "execution_count": null,
      "outputs": []
    },
    {
      "cell_type": "code",
      "metadata": {
        "id": "jM5WG0HtsIpC"
      },
      "source": [
        "#importing Rondom forest classifier\n",
        "from sklearn.ensemble import RandomForestClassifier\n",
        "model=RandomForestClassifier()\n",
        "model.fit(X_train,y_train)\n",
        "y_pred=model.predict(X_test)"
      ],
      "execution_count": null,
      "outputs": []
    },
    {
      "cell_type": "code",
      "metadata": {
        "id": "vHCR0ZrBsgbo"
      },
      "source": [
        "#import mertics to get accuracy_score ,confusion metrix,classification report\n",
        "from sklearn import metrics"
      ],
      "execution_count": null,
      "outputs": []
    },
    {
      "cell_type": "code",
      "metadata": {
        "colab": {
          "base_uri": "https://localhost:8080/"
        },
        "id": "df69bu0esw9G",
        "outputId": "8c173e67-ef4d-4abf-c92b-c56f1f2ed7df"
      },
      "source": [
        "print('Accuracy_Score :',metrics.accuracy_score(y_test,y_pred))\n",
        "print('Confusion Matrix:\\n',metrics.confusion_matrix(y_test,y_pred))\n",
        "print('Classification_report :\\n',metrics.classification_report(y_test,y_pred))"
      ],
      "execution_count": null,
      "outputs": [
        {
          "output_type": "stream",
          "text": [
            "Accuracy_Score : 0.8576666666666667\n",
            "Confusion Matrix:\n",
            " [[2291   82]\n",
            " [ 345  282]]\n",
            "Classification_report :\n",
            "               precision    recall  f1-score   support\n",
            "\n",
            "           0       0.87      0.97      0.91      2373\n",
            "           1       0.77      0.45      0.57       627\n",
            "\n",
            "    accuracy                           0.86      3000\n",
            "   macro avg       0.82      0.71      0.74      3000\n",
            "weighted avg       0.85      0.86      0.84      3000\n",
            "\n"
          ],
          "name": "stdout"
        }
      ]
    },
    {
      "cell_type": "markdown",
      "metadata": {
        "id": "FkLUESnQuPQJ"
      },
      "source": [
        "![image.png](data:image/png;base64,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)"
      ]
    },
    {
      "cell_type": "code",
      "metadata": {
        "id": "GvWURq92t_AH"
      },
      "source": [
        "#importong RandomisedSearch Cv ,GridSearch Cv\n",
        "from sklearn.model_selection import RandomizedSearchCV\n",
        "from sklearn.model_selection import GridSearchCV"
      ],
      "execution_count": null,
      "outputs": []
    },
    {
      "cell_type": "code",
      "metadata": {
        "id": "_m2TmwRH_quc"
      },
      "source": [
        "#creating a object or instance of Random forest Classifier\n",
        "model=RandomForestClassifier()"
      ],
      "execution_count": null,
      "outputs": []
    },
    {
      "cell_type": "code",
      "metadata": {
        "colab": {
          "base_uri": "https://localhost:8080/"
        },
        "id": "5SGjmrib_nJ3",
        "outputId": "23933caf-40fc-44a1-d520-782986f5f555"
      },
      "source": [
        "#Checking the all parametrs of RandomForestClassifier \n",
        "sorted(model.get_params().keys())"
      ],
      "execution_count": null,
      "outputs": [
        {
          "output_type": "execute_result",
          "data": {
            "text/plain": [
              "['bootstrap',\n",
              " 'ccp_alpha',\n",
              " 'class_weight',\n",
              " 'criterion',\n",
              " 'max_depth',\n",
              " 'max_features',\n",
              " 'max_leaf_nodes',\n",
              " 'max_samples',\n",
              " 'min_impurity_decrease',\n",
              " 'min_impurity_split',\n",
              " 'min_samples_leaf',\n",
              " 'min_samples_split',\n",
              " 'min_weight_fraction_leaf',\n",
              " 'n_estimators',\n",
              " 'n_jobs',\n",
              " 'oob_score',\n",
              " 'random_state',\n",
              " 'verbose',\n",
              " 'warm_start']"
            ]
          },
          "metadata": {
            "tags": []
          },
          "execution_count": 19
        }
      ]
    },
    {
      "cell_type": "code",
      "metadata": {
        "id": "EEGjsEnnyl-D"
      },
      "source": [
        "params ={\n",
        "    'criterion':['gini','entropy'],\n",
        "    'n_estimators':[int(x) for x in np.linspace(start=100 ,stop=1000,num=10)],\n",
        "    'max_depth':[int(x) for x in np.linspace(10,1000,10)],\n",
        "    'max_features':['auto','sqrt','log2'],\n",
        "    'min_samples_split':[2,5,10],\n",
        "    'min_samples_leaf':[1,2,4,6,8]\n",
        "}"
      ],
      "execution_count": null,
      "outputs": []
    },
    {
      "cell_type": "code",
      "metadata": {
        "colab": {
          "base_uri": "https://localhost:8080/"
        },
        "id": "Z9UxLvi17hZv",
        "outputId": "da305e74-6c1b-4932-dbd0-0ccffa6988b3"
      },
      "source": [
        "params"
      ],
      "execution_count": null,
      "outputs": [
        {
          "output_type": "execute_result",
          "data": {
            "text/plain": [
              "{'criterion': ['gini', 'entropy'],\n",
              " 'max_depth': [10, 120, 230, 340, 450, 560, 670, 780, 890, 1000],\n",
              " 'max_features': ['auto', 'sqrt', 'log2'],\n",
              " 'min_samples_leaf': [1, 2, 4, 6, 8],\n",
              " 'min_samples_split': [2, 5, 10],\n",
              " 'n_estimators': [100, 200, 300, 400, 500, 600, 700, 800, 900, 1000]}"
            ]
          },
          "metadata": {
            "tags": []
          },
          "execution_count": 21
        }
      ]
    },
    {
      "cell_type": "markdown",
      "metadata": {
        "id": "F5fLw38O44vY"
      },
      "source": [
        "\n",
        "RandomSearch Cv Hyper-tunning"
      ]
    },
    {
      "cell_type": "code",
      "metadata": {
        "id": "lX1Uoio74UBq"
      },
      "source": [
        "rf=RandomizedSearchCV(estimator=model,param_distributions=params,n_iter=5,scoring='accuracy',cv=5,verbose=2,n_jobs=-1,random_state=10)"
      ],
      "execution_count": null,
      "outputs": []
    },
    {
      "cell_type": "code",
      "metadata": {
        "colab": {
          "base_uri": "https://localhost:8080/"
        },
        "id": "eZYOKCSH4uXB",
        "outputId": "461d939b-5d33-49f5-9619-ce5ea6b063df"
      },
      "source": [
        "rf.fit(X_train,y_train)"
      ],
      "execution_count": null,
      "outputs": [
        {
          "output_type": "stream",
          "text": [
            "Fitting 5 folds for each of 5 candidates, totalling 25 fits\n"
          ],
          "name": "stdout"
        },
        {
          "output_type": "stream",
          "text": [
            "[Parallel(n_jobs=-1)]: Using backend LokyBackend with 2 concurrent workers.\n",
            "[Parallel(n_jobs=-1)]: Done  25 out of  25 | elapsed:  1.6min finished\n"
          ],
          "name": "stderr"
        },
        {
          "output_type": "execute_result",
          "data": {
            "text/plain": [
              "RandomizedSearchCV(cv=5, error_score=nan,\n",
              "                   estimator=RandomForestClassifier(bootstrap=True,\n",
              "                                                    ccp_alpha=0.0,\n",
              "                                                    class_weight=None,\n",
              "                                                    criterion='gini',\n",
              "                                                    max_depth=None,\n",
              "                                                    max_features='auto',\n",
              "                                                    max_leaf_nodes=None,\n",
              "                                                    max_samples=None,\n",
              "                                                    min_impurity_decrease=0.0,\n",
              "                                                    min_impurity_split=None,\n",
              "                                                    min_samples_leaf=1,\n",
              "                                                    min_samples_split=2,\n",
              "                                                    min_weight_fraction_leaf=0.0,\n",
              "                                                    n_estimators=100,\n",
              "                                                    n_jobs...\n",
              "                   param_distributions={'criterion': ['gini', 'entropy'],\n",
              "                                        'max_depth': [10, 120, 230, 340, 450,\n",
              "                                                      560, 670, 780, 890,\n",
              "                                                      1000],\n",
              "                                        'max_features': ['auto', 'sqrt',\n",
              "                                                         'log2'],\n",
              "                                        'min_samples_leaf': [1, 2, 4, 6, 8],\n",
              "                                        'min_samples_split': [2, 5, 10],\n",
              "                                        'n_estimators': [100, 200, 300, 400,\n",
              "                                                         500, 600, 700, 800,\n",
              "                                                         900, 1000]},\n",
              "                   pre_dispatch='2*n_jobs', random_state=10, refit=True,\n",
              "                   return_train_score=False, scoring='accuracy', verbose=2)"
            ]
          },
          "metadata": {
            "tags": []
          },
          "execution_count": 23
        }
      ]
    },
    {
      "cell_type": "code",
      "metadata": {
        "colab": {
          "base_uri": "https://localhost:8080/"
        },
        "id": "GFlvO4rp84Ix",
        "outputId": "96117944-7cb7-47d3-cabf-7143c61a46b4"
      },
      "source": [
        "rf.best_params_"
      ],
      "execution_count": null,
      "outputs": [
        {
          "output_type": "execute_result",
          "data": {
            "text/plain": [
              "{'criterion': 'entropy',\n",
              " 'max_depth': 670,\n",
              " 'max_features': 'auto',\n",
              " 'min_samples_leaf': 6,\n",
              " 'min_samples_split': 2,\n",
              " 'n_estimators': 200}"
            ]
          },
          "metadata": {
            "tags": []
          },
          "execution_count": 24
        }
      ]
    },
    {
      "cell_type": "code",
      "metadata": {
        "colab": {
          "base_uri": "https://localhost:8080/"
        },
        "id": "lzA0UhD_-XVj",
        "outputId": "9048352d-eea1-4e3b-bdbf-e6c976c67d9d"
      },
      "source": [
        "best_random =rf.best_estimator_\n",
        "best_random"
      ],
      "execution_count": null,
      "outputs": [
        {
          "output_type": "execute_result",
          "data": {
            "text/plain": [
              "RandomForestClassifier(bootstrap=True, ccp_alpha=0.0, class_weight=None,\n",
              "                       criterion='entropy', max_depth=670, max_features='auto',\n",
              "                       max_leaf_nodes=None, max_samples=None,\n",
              "                       min_impurity_decrease=0.0, min_impurity_split=None,\n",
              "                       min_samples_leaf=6, min_samples_split=2,\n",
              "                       min_weight_fraction_leaf=0.0, n_estimators=200,\n",
              "                       n_jobs=None, oob_score=False, random_state=None,\n",
              "                       verbose=0, warm_start=False)"
            ]
          },
          "metadata": {
            "tags": []
          },
          "execution_count": 25
        }
      ]
    },
    {
      "cell_type": "code",
      "metadata": {
        "id": "3KIgcDx8AcNA"
      },
      "source": [
        "model =RandomForestClassifier(bootstrap=True, ccp_alpha=0.0, class_weight=None,\n",
        "                       criterion='gini', max_depth=230, max_features='log2',\n",
        "                       max_leaf_nodes=None, max_samples=None,\n",
        "                       min_impurity_decrease=0.0, min_impurity_split=None,\n",
        "                       min_samples_leaf=4, min_samples_split=10,\n",
        "                       min_weight_fraction_leaf=0.0, n_estimators=1000,\n",
        "                       n_jobs=None, oob_score=False, random_state=None,\n",
        "                       verbose=0, warm_start=False)"
      ],
      "execution_count": null,
      "outputs": []
    },
    {
      "cell_type": "code",
      "metadata": {
        "colab": {
          "base_uri": "https://localhost:8080/"
        },
        "id": "TYDOEJa3Aoy-",
        "outputId": "18bbfaef-c7c6-4f3b-feb5-4106b7a57f1a"
      },
      "source": [
        "model.fit(X_train,y_train)"
      ],
      "execution_count": null,
      "outputs": [
        {
          "output_type": "execute_result",
          "data": {
            "text/plain": [
              "RandomForestClassifier(bootstrap=True, ccp_alpha=0.0, class_weight=None,\n",
              "                       criterion='gini', max_depth=230, max_features='log2',\n",
              "                       max_leaf_nodes=None, max_samples=None,\n",
              "                       min_impurity_decrease=0.0, min_impurity_split=None,\n",
              "                       min_samples_leaf=4, min_samples_split=10,\n",
              "                       min_weight_fraction_leaf=0.0, n_estimators=1000,\n",
              "                       n_jobs=None, oob_score=False, random_state=None,\n",
              "                       verbose=0, warm_start=False)"
            ]
          },
          "metadata": {
            "tags": []
          },
          "execution_count": 27
        }
      ]
    },
    {
      "cell_type": "code",
      "metadata": {
        "id": "f5uIG72BAtws"
      },
      "source": [
        "y_pred=model.predict(X_test)"
      ],
      "execution_count": null,
      "outputs": []
    },
    {
      "cell_type": "code",
      "metadata": {
        "colab": {
          "base_uri": "https://localhost:8080/"
        },
        "id": "UUaJ7aOYAz3i",
        "outputId": "2328ff11-8d5a-4313-c427-c90f2896880a"
      },
      "source": [
        "print(\"Accuracy_Score :\",metrics.accuracy_score(y_test,y_pred))\n",
        "print('Confusion Matrix:\\n',metrics.confusion_matrix(y_test,y_pred))\n",
        "print('Classification_report :\\n',metrics.classification_report(y_test,y_pred))"
      ],
      "execution_count": null,
      "outputs": [
        {
          "output_type": "stream",
          "text": [
            "Accuracy_Score : 0.8603333333333333\n",
            "Confusion Matrix:\n",
            " [[2308   65]\n",
            " [ 354  273]]\n",
            "Classification_report :\n",
            "               precision    recall  f1-score   support\n",
            "\n",
            "           0       0.87      0.97      0.92      2373\n",
            "           1       0.81      0.44      0.57       627\n",
            "\n",
            "    accuracy                           0.86      3000\n",
            "   macro avg       0.84      0.70      0.74      3000\n",
            "weighted avg       0.85      0.86      0.84      3000\n",
            "\n"
          ],
          "name": "stdout"
        }
      ]
    },
    {
      "cell_type": "markdown",
      "metadata": {
        "id": "MOoHElaGh1hj"
      },
      "source": [
        "Grid cv"
      ]
    },
    {
      "cell_type": "code",
      "metadata": {
        "colab": {
          "base_uri": "https://localhost:8080/"
        },
        "id": "den0METeoZ8I",
        "outputId": "fc699cc0-0b98-4e99-fb85-3310622d5e36"
      },
      "source": [
        "param_grid = {\n",
        "    'criterion': [rf.best_params_['criterion']],\n",
        "    'max_depth': [rf.best_params_['max_depth']],\n",
        "    'max_features': [rf.best_params_['max_features']],\n",
        "    'min_samples_leaf': [rf.best_params_['min_samples_leaf'], \n",
        "                         rf.best_params_['min_samples_leaf']+2, \n",
        "                         rf.best_params_['min_samples_leaf'] + 4],\n",
        "    'min_samples_split': [rf.best_params_['min_samples_split'] - 2,\n",
        "                          rf.best_params_['min_samples_split'] - 1,\n",
        "                          rf.best_params_['min_samples_split'], \n",
        "                          rf.best_params_['min_samples_split'] +1,\n",
        "                          rf.best_params_['min_samples_split'] + 2],\n",
        "    'n_estimators': [rf.best_params_['n_estimators'] - 200, rf.best_params_['n_estimators'] - 100, \n",
        "                     rf.best_params_['n_estimators'], \n",
        "                     rf.best_params_['n_estimators'] + 100, rf.best_params_['n_estimators'] + 200]\n",
        "}\n",
        "\n",
        "print(param_grid)"
      ],
      "execution_count": null,
      "outputs": [
        {
          "output_type": "stream",
          "text": [
            "{'criterion': ['entropy'], 'max_depth': [670], 'max_features': ['auto'], 'min_samples_leaf': [6, 8, 10], 'min_samples_split': [0, 1, 2, 3, 4], 'n_estimators': [0, 100, 200, 300, 400]}\n"
          ],
          "name": "stdout"
        }
      ]
    },
    {
      "cell_type": "code",
      "metadata": {
        "id": "lzlknlJyoi_v"
      },
      "source": [
        "grid=GridSearchCV(estimator=model,param_grid=param_grid,n_jobs=-1,cv=2,verbose=1)"
      ],
      "execution_count": null,
      "outputs": []
    },
    {
      "cell_type": "code",
      "metadata": {
        "colab": {
          "base_uri": "https://localhost:8080/"
        },
        "id": "C_Zy9T79p77-",
        "outputId": "b11c02d4-ce16-4d8e-921b-9ce5cb9e515e"
      },
      "source": [
        "grid.fit(X_train,y_train)"
      ],
      "execution_count": null,
      "outputs": [
        {
          "output_type": "stream",
          "text": [
            "Fitting 2 folds for each of 75 candidates, totalling 150 fits\n"
          ],
          "name": "stdout"
        },
        {
          "output_type": "stream",
          "text": [
            "[Parallel(n_jobs=-1)]: Using backend LokyBackend with 2 concurrent workers.\n",
            "[Parallel(n_jobs=-1)]: Done  62 tasks      | elapsed:   32.4s\n",
            "[Parallel(n_jobs=-1)]: Done 150 out of 150 | elapsed:  1.5min finished\n"
          ],
          "name": "stderr"
        },
        {
          "output_type": "execute_result",
          "data": {
            "text/plain": [
              "GridSearchCV(cv=2, error_score=nan,\n",
              "             estimator=RandomForestClassifier(bootstrap=True, ccp_alpha=0.0,\n",
              "                                              class_weight=None,\n",
              "                                              criterion='gini', max_depth=230,\n",
              "                                              max_features='log2',\n",
              "                                              max_leaf_nodes=None,\n",
              "                                              max_samples=None,\n",
              "                                              min_impurity_decrease=0.0,\n",
              "                                              min_impurity_split=None,\n",
              "                                              min_samples_leaf=4,\n",
              "                                              min_samples_split=10,\n",
              "                                              min_weight_fraction_leaf=0.0,\n",
              "                                              n_estimators=1000, n_jobs=None,\n",
              "                                              oob_score=False,\n",
              "                                              random_state=None, verbose=0,\n",
              "                                              warm_start=False),\n",
              "             iid='deprecated', n_jobs=-1,\n",
              "             param_grid={'criterion': ['entropy'], 'max_depth': [670],\n",
              "                         'max_features': ['auto'],\n",
              "                         'min_samples_leaf': [6, 8, 10],\n",
              "                         'min_samples_split': [0, 1, 2, 3, 4],\n",
              "                         'n_estimators': [0, 100, 200, 300, 400]},\n",
              "             pre_dispatch='2*n_jobs', refit=True, return_train_score=False,\n",
              "             scoring=None, verbose=1)"
            ]
          },
          "metadata": {
            "tags": []
          },
          "execution_count": 32
        }
      ]
    },
    {
      "cell_type": "code",
      "metadata": {
        "colab": {
          "base_uri": "https://localhost:8080/"
        },
        "id": "JvKOvO0kqK1B",
        "outputId": "b48dfbe9-0885-4996-99cc-752253c6047b"
      },
      "source": [
        "grid.best_params_"
      ],
      "execution_count": null,
      "outputs": [
        {
          "output_type": "execute_result",
          "data": {
            "text/plain": [
              "{'criterion': 'entropy',\n",
              " 'max_depth': 670,\n",
              " 'max_features': 'auto',\n",
              " 'min_samples_leaf': 6,\n",
              " 'min_samples_split': 4,\n",
              " 'n_estimators': 200}"
            ]
          },
          "metadata": {
            "tags": []
          },
          "execution_count": 33
        }
      ]
    },
    {
      "cell_type": "code",
      "metadata": {
        "colab": {
          "base_uri": "https://localhost:8080/"
        },
        "id": "oK2M21fx1bTh",
        "outputId": "e3a7bd2e-a0e2-4e9a-de34-739d9c15498f"
      },
      "source": [
        "grid.best_estimator_"
      ],
      "execution_count": null,
      "outputs": [
        {
          "output_type": "execute_result",
          "data": {
            "text/plain": [
              "RandomForestClassifier(bootstrap=True, ccp_alpha=0.0, class_weight=None,\n",
              "                       criterion='entropy', max_depth=670, max_features='auto',\n",
              "                       max_leaf_nodes=None, max_samples=None,\n",
              "                       min_impurity_decrease=0.0, min_impurity_split=None,\n",
              "                       min_samples_leaf=6, min_samples_split=4,\n",
              "                       min_weight_fraction_leaf=0.0, n_estimators=200,\n",
              "                       n_jobs=None, oob_score=False, random_state=None,\n",
              "                       verbose=0, warm_start=False)"
            ]
          },
          "metadata": {
            "tags": []
          },
          "execution_count": 35
        }
      ]
    },
    {
      "cell_type": "code",
      "metadata": {
        "id": "xs37yWke1A7c"
      },
      "source": [
        " model=RandomForestClassifier(bootstrap=True, ccp_alpha=0.0, class_weight=None,\n",
        "                       criterion='entropy', max_depth=670, max_features='auto',\n",
        "                       max_leaf_nodes=None, max_samples=None,\n",
        "                       min_impurity_decrease=0.0, min_impurity_split=None,\n",
        "                       min_samples_leaf=6, min_samples_split=4,\n",
        "                       min_weight_fraction_leaf=0.0, n_estimators=200,\n",
        "                       n_jobs=None, oob_score=False, random_state=None,\n",
        "                       verbose=0, warm_start=False)"
      ],
      "execution_count": null,
      "outputs": []
    },
    {
      "cell_type": "code",
      "metadata": {
        "colab": {
          "base_uri": "https://localhost:8080/"
        },
        "id": "bn1ISTws1RdH",
        "outputId": "3289b52e-95c8-4384-c92a-6c54b3b98076"
      },
      "source": [
        "model.fit(X_train,y_train)"
      ],
      "execution_count": null,
      "outputs": [
        {
          "output_type": "execute_result",
          "data": {
            "text/plain": [
              "RandomForestClassifier(bootstrap=True, ccp_alpha=0.0, class_weight=None,\n",
              "                       criterion='entropy', max_depth=670, max_features='auto',\n",
              "                       max_leaf_nodes=None, max_samples=None,\n",
              "                       min_impurity_decrease=0.0, min_impurity_split=None,\n",
              "                       min_samples_leaf=6, min_samples_split=4,\n",
              "                       min_weight_fraction_leaf=0.0, n_estimators=200,\n",
              "                       n_jobs=None, oob_score=False, random_state=None,\n",
              "                       verbose=0, warm_start=False)"
            ]
          },
          "metadata": {
            "tags": []
          },
          "execution_count": 37
        }
      ]
    },
    {
      "cell_type": "code",
      "metadata": {
        "id": "B9wf6wc46AhW"
      },
      "source": [
        "y_pred=model.predict(X_test)"
      ],
      "execution_count": null,
      "outputs": []
    },
    {
      "cell_type": "code",
      "metadata": {
        "colab": {
          "base_uri": "https://localhost:8080/"
        },
        "id": "pz28Pb316ZXW",
        "outputId": "191a76df-6254-46d4-9dca-5f833739d058"
      },
      "source": [
        "print(\"Accuracy_Score :\",metrics.accuracy_score(y_test,y_pred))\n",
        "print('Confusion Matrix:\\n',metrics.confusion_matrix(y_test,y_pred))\n",
        "print('Classification_report :\\n',metrics.classification_report(y_test,y_pred))"
      ],
      "execution_count": null,
      "outputs": [
        {
          "output_type": "stream",
          "text": [
            "Accuracy_Score : 0.8616666666666667\n",
            "Confusion Matrix:\n",
            " [[2314   59]\n",
            " [ 356  271]]\n",
            "Classification_report :\n",
            "               precision    recall  f1-score   support\n",
            "\n",
            "           0       0.87      0.98      0.92      2373\n",
            "           1       0.82      0.43      0.57       627\n",
            "\n",
            "    accuracy                           0.86      3000\n",
            "   macro avg       0.84      0.70      0.74      3000\n",
            "weighted avg       0.86      0.86      0.84      3000\n",
            "\n"
          ],
          "name": "stdout"
        }
      ]
    },
    {
      "cell_type": "code",
      "metadata": {
        "id": "R2lrpwi46eMl"
      },
      "source": [
        ""
      ],
      "execution_count": null,
      "outputs": []
    }
  ]
}